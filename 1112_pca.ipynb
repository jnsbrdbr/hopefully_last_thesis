{
  "nbformat": 4,
  "nbformat_minor": 0,
  "metadata": {
    "colab": {
      "name": "2/smote_pca.ipynb",
      "provenance": [],
      "collapsed_sections": [],
      "include_colab_link": true
    },
    "kernelspec": {
      "name": "python3",
      "display_name": "Python 3"
    },
    "language_info": {
      "name": "python"
    },
    "accelerator": "GPU"
  },
  "cells": [
    {
      "cell_type": "markdown",
      "metadata": {
        "id": "view-in-github",
        "colab_type": "text"
      },
      "source": [
        "<a href=\"https://colab.research.google.com/github/jnsbrdbr/hopefully_last_thesis/blob/main/1112_pca.ipynb\" target=\"_parent\"><img src=\"https://colab.research.google.com/assets/colab-badge.svg\" alt=\"Open In Colab\"/></a>"
      ]
    },
    {
      "cell_type": "code",
      "execution_count": null,
      "metadata": {
        "id": "DEyAIL80xhGZ"
      },
      "outputs": [],
      "source": [
        "import numpy as np\n",
        "import pandas as pd\n",
        "import seaborn as sns\n",
        "import matplotlib.pyplot as plt\n",
        "\n",
        "from sklearn.metrics import jaccard_score\n",
        "from scipy.spatial.distance import pdist, squareform"
      ]
    },
    {
      "cell_type": "code",
      "source": [
        "from google.colab import drive\n",
        "drive.mount('/content/drive')"
      ],
      "metadata": {
        "colab": {
          "base_uri": "https://localhost:8080/"
        },
        "id": "HcfHFqNWxmsX",
        "outputId": "55e4127b-084f-4154-90e7-b6fce259c651"
      },
      "execution_count": null,
      "outputs": [
        {
          "output_type": "stream",
          "name": "stdout",
          "text": [
            "Drive already mounted at /content/drive; to attempt to forcibly remount, call drive.mount(\"/content/drive\", force_remount=True).\n"
          ]
        }
      ]
    },
    {
      "cell_type": "code",
      "source": [
        "import pandas as pd\n",
        "store = pd.HDFStore('/content/drive/MyDrive/1000/Tdata.h5')\n",
        "\n",
        "adj=store['adj']\n",
        "store.close()"
      ],
      "metadata": {
        "id": "pTaFqe5Uxt7C"
      },
      "execution_count": null,
      "outputs": []
    },
    {
      "cell_type": "code",
      "source": [
        "#import tables\n",
        "#tables.file._open_files.close_all()"
      ],
      "metadata": {
        "id": "NuK-IpJoVKDN"
      },
      "execution_count": null,
      "outputs": []
    },
    {
      "cell_type": "code",
      "source": [
        "#store = pd.HDFStore('/content/drive/MyDrive/1000/TCFdf.h5')\n",
        "#CF=store['CFdf']\n",
        "#store.close()\n",
        "with pd.HDFStore('/content/drive/MyDrive/1000/TCFdf.h5',  mode='r') as newstore:\n",
        "    CF = newstore.select('CFdf')"
      ],
      "metadata": {
        "id": "YR7CF3kcxwFZ"
      },
      "execution_count": null,
      "outputs": []
    },
    {
      "cell_type": "code",
      "source": [
        "store = pd.HDFStore('/content/drive/MyDrive/1000/TTFdf.h5')\n",
        "TF=store['TFdf']\n",
        "store.close()\n",
        "#with pd.HDFStore('/content/drive/MyDrive/1000/TTFdf.h5',  mode='r') as newstore:\n",
        "#    TF = newstore.select('TFdf')"
      ],
      "metadata": {
        "id": "SxQKug9Bx1yx"
      },
      "execution_count": null,
      "outputs": []
    },
    {
      "cell_type": "code",
      "source": [
        "with pd.HDFStore('/content/drive/MyDrive/1000/TjaccardsimilaritydfR.h5',  mode='r') as newstore:\n",
        "    jaccardsimilarity = newstore.select('jaccardsimilaritydfR')"
      ],
      "metadata": {
        "id": "EK75N8BG2Hra"
      },
      "execution_count": null,
      "outputs": []
    },
    {
      "cell_type": "code",
      "source": [
        "store = pd.HDFStore('/content/drive/MyDrive/1000/TcosinesimilaritydfR.h5')\n",
        "cosine=store['cosine_similaritydfR']"
      ],
      "metadata": {
        "id": "PODLTJi2205O"
      },
      "execution_count": null,
      "outputs": []
    },
    {
      "cell_type": "code",
      "source": [
        "store = pd.HDFStore('/content/drive/MyDrive/1000/TL1normdf.h5')\n",
        "L1_normdf=store['L1_normdf']\n",
        "store.close()"
      ],
      "metadata": {
        "id": "9OYR4I85zr58"
      },
      "execution_count": null,
      "outputs": []
    },
    {
      "cell_type": "code",
      "source": [
        "store = pd.HDFStore('/content/drive/MyDrive/1000/Tsum.h5')\n",
        "wsumdf=store['wsumdf']\n",
        "store.close()"
      ],
      "metadata": {
        "id": "OXPlnFRX0W2N"
      },
      "execution_count": null,
      "outputs": []
    },
    {
      "cell_type": "code",
      "source": [
        "with pd.HDFStore('/content/drive/MyDrive/1000/Tmul.h5',  mode='r') as newstore:\n",
        "    wmuldf = newstore.select('wmuldf')"
      ],
      "metadata": {
        "id": "FfjKHwXC0i8p"
      },
      "execution_count": null,
      "outputs": []
    },
    {
      "cell_type": "code",
      "source": [
        "#store = pd.HDFStore('/content/drive/MyDrive/1000/TLdata.h5')\n",
        "#adjl=store['adjl']\n",
        "#store.close()\n",
        "with pd.HDFStore('/content/drive/MyDrive/1000/TLdata.h5',  mode='r') as newstore:\n",
        "    adjl = newstore.select('adjl')"
      ],
      "metadata": {
        "id": "pAlWE_VT3-dn"
      },
      "execution_count": null,
      "outputs": []
    },
    {
      "cell_type": "markdown",
      "source": [
        "# SMOTE:Synthetic Minority Oversampling **TEchnique**\n",
        ":An improvement on duplicating examples from the minority class is to synthesize new examples from the minority class. This is a type of data augmentation for tabular data and can be very effective.:"
      ],
      "metadata": {
        "id": "R6F4A7wK7YSX"
      }
    },
    {
      "cell_type": "markdown",
      "source": [
        "# **PCA**"
      ],
      "metadata": {
        "id": "7-AjZepa8uae"
      }
    },
    {
      "cell_type": "code",
      "source": [
        "from sklearn.decomposition import PCA\n",
        "\n",
        "\n",
        "pca = PCA(n_components=10)\n",
        "CF_pca = pca.fit_transform(CF)\n",
        "CF_pca_df=pd.DataFrame(CF_pca)"
      ],
      "metadata": {
        "id": "m64r672n8v3-"
      },
      "execution_count": null,
      "outputs": []
    },
    {
      "cell_type": "code",
      "source": [
        "pca = PCA(n_components=10)\n",
        "TF_pca = pca.fit_transform(TF)\n",
        "TF_pca_df=pd.DataFrame(TF_pca)"
      ],
      "metadata": {
        "id": "8_k0LOA4-Kni"
      },
      "execution_count": null,
      "outputs": []
    },
    {
      "cell_type": "code",
      "source": [
        "pca = PCA(n_components=10)\n",
        "jaccard_similarity_pca = pca.fit_transform(jaccardsimilarity)\n",
        "jaccard_similarity_pca_df=pd.DataFrame(jaccard_similarity_pca)"
      ],
      "metadata": {
        "id": "K2I-r4lO-ao3"
      },
      "execution_count": null,
      "outputs": []
    },
    {
      "cell_type": "code",
      "source": [
        "pca = PCA(n_components=10)\n",
        "cosine_similarity_pca = pca.fit_transform(cosine)\n",
        "cosine_similarity_pca_df=pd.DataFrame(cosine_similarity_pca)"
      ],
      "metadata": {
        "id": "uaurRY82-yVf"
      },
      "execution_count": null,
      "outputs": []
    },
    {
      "cell_type": "code",
      "source": [
        "pca = PCA(n_components=10)\n",
        "L1_normdf_similarity_pca = pca.fit_transform(L1_normdf)\n",
        "L1_normdf_similarity_pca_df=pd.DataFrame(L1_normdf_similarity)"
      ],
      "metadata": {
        "id": "e8bJnk7B-yLq"
      },
      "execution_count": null,
      "outputs": []
    },
    {
      "cell_type": "code",
      "source": [
        "pca = PCA(n_components=10)\n",
        "wsumdf_similarity_pca = pca.fit_transform(wsumdf)\n",
        "wsumdf_similarity_pca_df=pd.DataFrame(wsumdf_similarity_pca)"
      ],
      "metadata": {
        "id": "KFqx-ctK-yHO"
      },
      "execution_count": null,
      "outputs": []
    },
    {
      "cell_type": "code",
      "source": [
        "pca = PCA(n_components=10)\n",
        "wmuldf_similarity_pca = pca.fit_transform(wmuldf)\n",
        "wmuldf_similarity_pca_df=pd.DataFrame(wmuldf_similarity_pca)"
      ],
      "metadata": {
        "id": "ztaqHeP2-yFY"
      },
      "execution_count": null,
      "outputs": []
    },
    {
      "cell_type": "code",
      "source": [
        "#concat\n",
        "frames = [CF_pca_df, TF_pca_df, jaccard_similarity_pca_df,cosine_similarity_pca_df,\n",
        "          L1_normdf_similarity_pca_df,wsumdf_similarity_pca_df,wmuldf_similarity_pca_df,CF_label]\n",
        "result = pd.concat(frames,axis=1)"
      ],
      "metadata": {
        "id": "7KanEVjY4YWK"
      },
      "execution_count": null,
      "outputs": []
    },
    {
      "cell_type": "code",
      "source": [
        "result"
      ],
      "metadata": {
        "colab": {
          "base_uri": "https://localhost:8080/",
          "height": 488
        },
        "id": "70DPtzXc7jXQ",
        "outputId": "ad39e996-83ee-44d0-ae6f-48e242ea7b49"
      },
      "execution_count": null,
      "outputs": [
        {
          "output_type": "execute_result",
          "data": {
            "text/html": [
              "\n",
              "  <div id=\"df-d5216f82-8c44-4665-98b7-9207b1497a1e\">\n",
              "    <div class=\"colab-df-container\">\n",
              "      <div>\n",
              "<style scoped>\n",
              "    .dataframe tbody tr th:only-of-type {\n",
              "        vertical-align: middle;\n",
              "    }\n",
              "\n",
              "    .dataframe tbody tr th {\n",
              "        vertical-align: top;\n",
              "    }\n",
              "\n",
              "    .dataframe thead th {\n",
              "        text-align: right;\n",
              "    }\n",
              "</style>\n",
              "<table border=\"1\" class=\"dataframe\">\n",
              "  <thead>\n",
              "    <tr style=\"text-align: right;\">\n",
              "      <th></th>\n",
              "      <th>0</th>\n",
              "      <th>1</th>\n",
              "      <th>2</th>\n",
              "      <th>3</th>\n",
              "      <th>4</th>\n",
              "      <th>5</th>\n",
              "      <th>6</th>\n",
              "      <th>7</th>\n",
              "      <th>8</th>\n",
              "      <th>9</th>\n",
              "      <th>...</th>\n",
              "      <th>1</th>\n",
              "      <th>2</th>\n",
              "      <th>3</th>\n",
              "      <th>4</th>\n",
              "      <th>5</th>\n",
              "      <th>6</th>\n",
              "      <th>7</th>\n",
              "      <th>8</th>\n",
              "      <th>9</th>\n",
              "      <th>label</th>\n",
              "    </tr>\n",
              "  </thead>\n",
              "  <tbody>\n",
              "    <tr>\n",
              "      <th>0</th>\n",
              "      <td>-1.468407</td>\n",
              "      <td>-3.098769</td>\n",
              "      <td>-0.040978</td>\n",
              "      <td>6.204485e-14</td>\n",
              "      <td>2.991009e-14</td>\n",
              "      <td>0.078341</td>\n",
              "      <td>2.36865</td>\n",
              "      <td>-1.386898</td>\n",
              "      <td>-0.000551</td>\n",
              "      <td>-0.000425</td>\n",
              "      <td>...</td>\n",
              "      <td>-0.039493</td>\n",
              "      <td>0.002581</td>\n",
              "      <td>-0.005026</td>\n",
              "      <td>-0.000115</td>\n",
              "      <td>-0.004540</td>\n",
              "      <td>-0.010420</td>\n",
              "      <td>-0.005894</td>\n",
              "      <td>-0.005817</td>\n",
              "      <td>-0.003177</td>\n",
              "      <td>1</td>\n",
              "    </tr>\n",
              "    <tr>\n",
              "      <th>1</th>\n",
              "      <td>-1.468407</td>\n",
              "      <td>-3.098769</td>\n",
              "      <td>-0.040978</td>\n",
              "      <td>-1.233238e-14</td>\n",
              "      <td>2.951113e-14</td>\n",
              "      <td>0.078341</td>\n",
              "      <td>2.36865</td>\n",
              "      <td>-1.386898</td>\n",
              "      <td>-0.000551</td>\n",
              "      <td>-0.000425</td>\n",
              "      <td>...</td>\n",
              "      <td>-0.039493</td>\n",
              "      <td>0.002581</td>\n",
              "      <td>-0.005026</td>\n",
              "      <td>-0.000115</td>\n",
              "      <td>-0.004540</td>\n",
              "      <td>-0.010420</td>\n",
              "      <td>-0.005894</td>\n",
              "      <td>-0.005817</td>\n",
              "      <td>-0.003177</td>\n",
              "      <td>1</td>\n",
              "    </tr>\n",
              "    <tr>\n",
              "      <th>2</th>\n",
              "      <td>-1.468407</td>\n",
              "      <td>-3.098769</td>\n",
              "      <td>-0.040978</td>\n",
              "      <td>-7.431131e-14</td>\n",
              "      <td>3.860443e-14</td>\n",
              "      <td>0.078341</td>\n",
              "      <td>2.36865</td>\n",
              "      <td>-1.386898</td>\n",
              "      <td>-0.000551</td>\n",
              "      <td>-0.000425</td>\n",
              "      <td>...</td>\n",
              "      <td>-0.039493</td>\n",
              "      <td>0.002581</td>\n",
              "      <td>-0.005026</td>\n",
              "      <td>-0.000115</td>\n",
              "      <td>-0.004540</td>\n",
              "      <td>-0.010420</td>\n",
              "      <td>-0.005894</td>\n",
              "      <td>-0.005817</td>\n",
              "      <td>-0.003176</td>\n",
              "      <td>1</td>\n",
              "    </tr>\n",
              "    <tr>\n",
              "      <th>3</th>\n",
              "      <td>-1.468407</td>\n",
              "      <td>-3.098769</td>\n",
              "      <td>-0.040978</td>\n",
              "      <td>1.650248e-14</td>\n",
              "      <td>-1.360452e-14</td>\n",
              "      <td>0.078341</td>\n",
              "      <td>2.36865</td>\n",
              "      <td>-1.386898</td>\n",
              "      <td>-0.000551</td>\n",
              "      <td>-0.000425</td>\n",
              "      <td>...</td>\n",
              "      <td>-0.039493</td>\n",
              "      <td>0.002581</td>\n",
              "      <td>-0.005026</td>\n",
              "      <td>-0.000115</td>\n",
              "      <td>-0.004540</td>\n",
              "      <td>-0.010420</td>\n",
              "      <td>-0.005894</td>\n",
              "      <td>-0.005817</td>\n",
              "      <td>-0.003177</td>\n",
              "      <td>1</td>\n",
              "    </tr>\n",
              "    <tr>\n",
              "      <th>4</th>\n",
              "      <td>-1.468407</td>\n",
              "      <td>-3.098769</td>\n",
              "      <td>-0.040978</td>\n",
              "      <td>8.579407e-15</td>\n",
              "      <td>2.671601e-14</td>\n",
              "      <td>0.078341</td>\n",
              "      <td>2.36865</td>\n",
              "      <td>-1.386898</td>\n",
              "      <td>-0.000551</td>\n",
              "      <td>-0.000425</td>\n",
              "      <td>...</td>\n",
              "      <td>-0.032130</td>\n",
              "      <td>-0.012159</td>\n",
              "      <td>-0.011785</td>\n",
              "      <td>-0.015593</td>\n",
              "      <td>-0.014991</td>\n",
              "      <td>-0.028055</td>\n",
              "      <td>0.006076</td>\n",
              "      <td>0.003190</td>\n",
              "      <td>0.002314</td>\n",
              "      <td>1</td>\n",
              "    </tr>\n",
              "    <tr>\n",
              "      <th>...</th>\n",
              "      <td>...</td>\n",
              "      <td>...</td>\n",
              "      <td>...</td>\n",
              "      <td>...</td>\n",
              "      <td>...</td>\n",
              "      <td>...</td>\n",
              "      <td>...</td>\n",
              "      <td>...</td>\n",
              "      <td>...</td>\n",
              "      <td>...</td>\n",
              "      <td>...</td>\n",
              "      <td>...</td>\n",
              "      <td>...</td>\n",
              "      <td>...</td>\n",
              "      <td>...</td>\n",
              "      <td>...</td>\n",
              "      <td>...</td>\n",
              "      <td>...</td>\n",
              "      <td>...</td>\n",
              "      <td>...</td>\n",
              "      <td>...</td>\n",
              "    </tr>\n",
              "    <tr>\n",
              "      <th>1315</th>\n",
              "      <td>-1.468407</td>\n",
              "      <td>-3.098769</td>\n",
              "      <td>-0.040978</td>\n",
              "      <td>1.269764e-14</td>\n",
              "      <td>2.287279e-14</td>\n",
              "      <td>0.078341</td>\n",
              "      <td>2.36865</td>\n",
              "      <td>-1.386898</td>\n",
              "      <td>-0.000551</td>\n",
              "      <td>-0.000425</td>\n",
              "      <td>...</td>\n",
              "      <td>0.032918</td>\n",
              "      <td>0.046306</td>\n",
              "      <td>0.094631</td>\n",
              "      <td>0.124774</td>\n",
              "      <td>0.008972</td>\n",
              "      <td>0.001981</td>\n",
              "      <td>-0.052331</td>\n",
              "      <td>0.309602</td>\n",
              "      <td>0.009135</td>\n",
              "      <td>0</td>\n",
              "    </tr>\n",
              "    <tr>\n",
              "      <th>1316</th>\n",
              "      <td>-1.468407</td>\n",
              "      <td>-3.098769</td>\n",
              "      <td>-0.040978</td>\n",
              "      <td>1.269764e-14</td>\n",
              "      <td>2.287279e-14</td>\n",
              "      <td>0.078341</td>\n",
              "      <td>2.36865</td>\n",
              "      <td>-1.386898</td>\n",
              "      <td>-0.000551</td>\n",
              "      <td>-0.000425</td>\n",
              "      <td>...</td>\n",
              "      <td>0.035148</td>\n",
              "      <td>0.062576</td>\n",
              "      <td>0.099325</td>\n",
              "      <td>0.134425</td>\n",
              "      <td>0.015498</td>\n",
              "      <td>0.002026</td>\n",
              "      <td>0.311786</td>\n",
              "      <td>0.021678</td>\n",
              "      <td>0.006007</td>\n",
              "      <td>0</td>\n",
              "    </tr>\n",
              "    <tr>\n",
              "      <th>1317</th>\n",
              "      <td>-1.468407</td>\n",
              "      <td>-3.098769</td>\n",
              "      <td>-0.040978</td>\n",
              "      <td>1.269764e-14</td>\n",
              "      <td>2.287279e-14</td>\n",
              "      <td>0.078341</td>\n",
              "      <td>2.36865</td>\n",
              "      <td>-1.386898</td>\n",
              "      <td>-0.000551</td>\n",
              "      <td>-0.000425</td>\n",
              "      <td>...</td>\n",
              "      <td>0.099628</td>\n",
              "      <td>-0.083265</td>\n",
              "      <td>-0.069888</td>\n",
              "      <td>-0.002082</td>\n",
              "      <td>-0.194672</td>\n",
              "      <td>0.297580</td>\n",
              "      <td>0.001217</td>\n",
              "      <td>-0.005709</td>\n",
              "      <td>-0.028393</td>\n",
              "      <td>0</td>\n",
              "    </tr>\n",
              "    <tr>\n",
              "      <th>1318</th>\n",
              "      <td>-1.468407</td>\n",
              "      <td>-3.098769</td>\n",
              "      <td>-0.040978</td>\n",
              "      <td>1.269764e-14</td>\n",
              "      <td>2.287279e-14</td>\n",
              "      <td>0.078341</td>\n",
              "      <td>2.36865</td>\n",
              "      <td>-1.386898</td>\n",
              "      <td>-0.000551</td>\n",
              "      <td>-0.000425</td>\n",
              "      <td>...</td>\n",
              "      <td>0.023592</td>\n",
              "      <td>-0.050616</td>\n",
              "      <td>-0.007453</td>\n",
              "      <td>-0.021238</td>\n",
              "      <td>0.308253</td>\n",
              "      <td>0.150730</td>\n",
              "      <td>-0.027760</td>\n",
              "      <td>-0.031040</td>\n",
              "      <td>0.127378</td>\n",
              "      <td>0</td>\n",
              "    </tr>\n",
              "    <tr>\n",
              "      <th>1319</th>\n",
              "      <td>-1.468407</td>\n",
              "      <td>-3.098769</td>\n",
              "      <td>-0.040978</td>\n",
              "      <td>1.269764e-14</td>\n",
              "      <td>2.287279e-14</td>\n",
              "      <td>0.078341</td>\n",
              "      <td>2.36865</td>\n",
              "      <td>-1.386898</td>\n",
              "      <td>-0.000551</td>\n",
              "      <td>-0.000425</td>\n",
              "      <td>...</td>\n",
              "      <td>0.101839</td>\n",
              "      <td>-0.125609</td>\n",
              "      <td>-0.142618</td>\n",
              "      <td>0.085227</td>\n",
              "      <td>-0.013546</td>\n",
              "      <td>-0.049724</td>\n",
              "      <td>-0.024447</td>\n",
              "      <td>0.240382</td>\n",
              "      <td>0.004047</td>\n",
              "      <td>0</td>\n",
              "    </tr>\n",
              "  </tbody>\n",
              "</table>\n",
              "<p>1320 rows × 71 columns</p>\n",
              "</div>\n",
              "      <button class=\"colab-df-convert\" onclick=\"convertToInteractive('df-d5216f82-8c44-4665-98b7-9207b1497a1e')\"\n",
              "              title=\"Convert this dataframe to an interactive table.\"\n",
              "              style=\"display:none;\">\n",
              "        \n",
              "  <svg xmlns=\"http://www.w3.org/2000/svg\" height=\"24px\"viewBox=\"0 0 24 24\"\n",
              "       width=\"24px\">\n",
              "    <path d=\"M0 0h24v24H0V0z\" fill=\"none\"/>\n",
              "    <path d=\"M18.56 5.44l.94 2.06.94-2.06 2.06-.94-2.06-.94-.94-2.06-.94 2.06-2.06.94zm-11 1L8.5 8.5l.94-2.06 2.06-.94-2.06-.94L8.5 2.5l-.94 2.06-2.06.94zm10 10l.94 2.06.94-2.06 2.06-.94-2.06-.94-.94-2.06-.94 2.06-2.06.94z\"/><path d=\"M17.41 7.96l-1.37-1.37c-.4-.4-.92-.59-1.43-.59-.52 0-1.04.2-1.43.59L10.3 9.45l-7.72 7.72c-.78.78-.78 2.05 0 2.83L4 21.41c.39.39.9.59 1.41.59.51 0 1.02-.2 1.41-.59l7.78-7.78 2.81-2.81c.8-.78.8-2.07 0-2.86zM5.41 20L4 18.59l7.72-7.72 1.47 1.35L5.41 20z\"/>\n",
              "  </svg>\n",
              "      </button>\n",
              "      \n",
              "  <style>\n",
              "    .colab-df-container {\n",
              "      display:flex;\n",
              "      flex-wrap:wrap;\n",
              "      gap: 12px;\n",
              "    }\n",
              "\n",
              "    .colab-df-convert {\n",
              "      background-color: #E8F0FE;\n",
              "      border: none;\n",
              "      border-radius: 50%;\n",
              "      cursor: pointer;\n",
              "      display: none;\n",
              "      fill: #1967D2;\n",
              "      height: 32px;\n",
              "      padding: 0 0 0 0;\n",
              "      width: 32px;\n",
              "    }\n",
              "\n",
              "    .colab-df-convert:hover {\n",
              "      background-color: #E2EBFA;\n",
              "      box-shadow: 0px 1px 2px rgba(60, 64, 67, 0.3), 0px 1px 3px 1px rgba(60, 64, 67, 0.15);\n",
              "      fill: #174EA6;\n",
              "    }\n",
              "\n",
              "    [theme=dark] .colab-df-convert {\n",
              "      background-color: #3B4455;\n",
              "      fill: #D2E3FC;\n",
              "    }\n",
              "\n",
              "    [theme=dark] .colab-df-convert:hover {\n",
              "      background-color: #434B5C;\n",
              "      box-shadow: 0px 1px 3px 1px rgba(0, 0, 0, 0.15);\n",
              "      filter: drop-shadow(0px 1px 2px rgba(0, 0, 0, 0.3));\n",
              "      fill: #FFFFFF;\n",
              "    }\n",
              "  </style>\n",
              "\n",
              "      <script>\n",
              "        const buttonEl =\n",
              "          document.querySelector('#df-d5216f82-8c44-4665-98b7-9207b1497a1e button.colab-df-convert');\n",
              "        buttonEl.style.display =\n",
              "          google.colab.kernel.accessAllowed ? 'block' : 'none';\n",
              "\n",
              "        async function convertToInteractive(key) {\n",
              "          const element = document.querySelector('#df-d5216f82-8c44-4665-98b7-9207b1497a1e');\n",
              "          const dataTable =\n",
              "            await google.colab.kernel.invokeFunction('convertToInteractive',\n",
              "                                                     [key], {});\n",
              "          if (!dataTable) return;\n",
              "\n",
              "          const docLinkHtml = 'Like what you see? Visit the ' +\n",
              "            '<a target=\"_blank\" href=https://colab.research.google.com/notebooks/data_table.ipynb>data table notebook</a>'\n",
              "            + ' to learn more about interactive tables.';\n",
              "          element.innerHTML = '';\n",
              "          dataTable['output_type'] = 'display_data';\n",
              "          await google.colab.output.renderOutput(dataTable, element);\n",
              "          const docLink = document.createElement('div');\n",
              "          docLink.innerHTML = docLinkHtml;\n",
              "          element.appendChild(docLink);\n",
              "        }\n",
              "      </script>\n",
              "    </div>\n",
              "  </div>\n",
              "  "
            ],
            "text/plain": [
              "             0         1         2             3             4         5  \\\n",
              "0    -1.468407 -3.098769 -0.040978  6.204485e-14  2.991009e-14  0.078341   \n",
              "1    -1.468407 -3.098769 -0.040978 -1.233238e-14  2.951113e-14  0.078341   \n",
              "2    -1.468407 -3.098769 -0.040978 -7.431131e-14  3.860443e-14  0.078341   \n",
              "3    -1.468407 -3.098769 -0.040978  1.650248e-14 -1.360452e-14  0.078341   \n",
              "4    -1.468407 -3.098769 -0.040978  8.579407e-15  2.671601e-14  0.078341   \n",
              "...        ...       ...       ...           ...           ...       ...   \n",
              "1315 -1.468407 -3.098769 -0.040978  1.269764e-14  2.287279e-14  0.078341   \n",
              "1316 -1.468407 -3.098769 -0.040978  1.269764e-14  2.287279e-14  0.078341   \n",
              "1317 -1.468407 -3.098769 -0.040978  1.269764e-14  2.287279e-14  0.078341   \n",
              "1318 -1.468407 -3.098769 -0.040978  1.269764e-14  2.287279e-14  0.078341   \n",
              "1319 -1.468407 -3.098769 -0.040978  1.269764e-14  2.287279e-14  0.078341   \n",
              "\n",
              "            6         7         8         9  ...         1         2  \\\n",
              "0     2.36865 -1.386898 -0.000551 -0.000425  ... -0.039493  0.002581   \n",
              "1     2.36865 -1.386898 -0.000551 -0.000425  ... -0.039493  0.002581   \n",
              "2     2.36865 -1.386898 -0.000551 -0.000425  ... -0.039493  0.002581   \n",
              "3     2.36865 -1.386898 -0.000551 -0.000425  ... -0.039493  0.002581   \n",
              "4     2.36865 -1.386898 -0.000551 -0.000425  ... -0.032130 -0.012159   \n",
              "...       ...       ...       ...       ...  ...       ...       ...   \n",
              "1315  2.36865 -1.386898 -0.000551 -0.000425  ...  0.032918  0.046306   \n",
              "1316  2.36865 -1.386898 -0.000551 -0.000425  ...  0.035148  0.062576   \n",
              "1317  2.36865 -1.386898 -0.000551 -0.000425  ...  0.099628 -0.083265   \n",
              "1318  2.36865 -1.386898 -0.000551 -0.000425  ...  0.023592 -0.050616   \n",
              "1319  2.36865 -1.386898 -0.000551 -0.000425  ...  0.101839 -0.125609   \n",
              "\n",
              "             3         4         5         6         7         8         9  \\\n",
              "0    -0.005026 -0.000115 -0.004540 -0.010420 -0.005894 -0.005817 -0.003177   \n",
              "1    -0.005026 -0.000115 -0.004540 -0.010420 -0.005894 -0.005817 -0.003177   \n",
              "2    -0.005026 -0.000115 -0.004540 -0.010420 -0.005894 -0.005817 -0.003176   \n",
              "3    -0.005026 -0.000115 -0.004540 -0.010420 -0.005894 -0.005817 -0.003177   \n",
              "4    -0.011785 -0.015593 -0.014991 -0.028055  0.006076  0.003190  0.002314   \n",
              "...        ...       ...       ...       ...       ...       ...       ...   \n",
              "1315  0.094631  0.124774  0.008972  0.001981 -0.052331  0.309602  0.009135   \n",
              "1316  0.099325  0.134425  0.015498  0.002026  0.311786  0.021678  0.006007   \n",
              "1317 -0.069888 -0.002082 -0.194672  0.297580  0.001217 -0.005709 -0.028393   \n",
              "1318 -0.007453 -0.021238  0.308253  0.150730 -0.027760 -0.031040  0.127378   \n",
              "1319 -0.142618  0.085227 -0.013546 -0.049724 -0.024447  0.240382  0.004047   \n",
              "\n",
              "      label  \n",
              "0         1  \n",
              "1         1  \n",
              "2         1  \n",
              "3         1  \n",
              "4         1  \n",
              "...     ...  \n",
              "1315      0  \n",
              "1316      0  \n",
              "1317      0  \n",
              "1318      0  \n",
              "1319      0  \n",
              "\n",
              "[1320 rows x 71 columns]"
            ]
          },
          "metadata": {},
          "execution_count": 30
        }
      ]
    },
    {
      "cell_type": "code",
      "source": [
        "with pd.HDFStore('/content/drive/MyDrive/1000/part2_result',  mode='w') as store:\n",
        "    store.append('result', result,format='table')"
      ],
      "metadata": {
        "id": "rACRHiPh8ANc"
      },
      "execution_count": null,
      "outputs": []
    }
  ]
}