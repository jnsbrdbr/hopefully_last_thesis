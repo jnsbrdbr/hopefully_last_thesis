{
  "nbformat": 4,
  "nbformat_minor": 0,
  "metadata": {
    "colab": {
      "name": "992_1000/PCA.ipynb",
      "provenance": [],
      "authorship_tag": "ABX9TyMFk+XBppu5o+X1kXI01xwC",
      "include_colab_link": true
    },
    "kernelspec": {
      "name": "python3",
      "display_name": "Python 3"
    },
    "language_info": {
      "name": "python"
    }
  },
  "cells": [
    {
      "cell_type": "markdown",
      "metadata": {
        "id": "view-in-github",
        "colab_type": "text"
      },
      "source": [
        "<a href=\"https://colab.research.google.com/github/jnsbrdbr/hopefully_last_thesis/blob/main/992_1000_PCA.ipynb\" target=\"_parent\"><img src=\"https://colab.research.google.com/assets/colab-badge.svg\" alt=\"Open In Colab\"/></a>"
      ]
    },
    {
      "cell_type": "code",
      "execution_count": 1,
      "metadata": {
        "id": "BnQxzU8PkQ5_"
      },
      "outputs": [],
      "source": [
        "import numpy as np\n",
        "import pandas as pd\n",
        "import seaborn as sns\n",
        "import matplotlib.pyplot as plt\n",
        "\n",
        "from sklearn.metrics import jaccard_score\n",
        "from scipy.spatial.distance import pdist, squareform\n",
        "\n",
        "from sklearn.decomposition import PCA\n",
        "import copy"
      ]
    },
    {
      "cell_type": "code",
      "source": [
        "from google.colab import drive\n",
        "drive.mount('/content/drive')"
      ],
      "metadata": {
        "colab": {
          "base_uri": "https://localhost:8080/"
        },
        "id": "cbPPJXRtkiKR",
        "outputId": "2c60ad7c-a84f-492d-dacd-efbd419745c3"
      },
      "execution_count": 2,
      "outputs": [
        {
          "output_type": "stream",
          "name": "stdout",
          "text": [
            "Mounted at /content/drive\n"
          ]
        }
      ]
    },
    {
      "cell_type": "markdown",
      "source": [
        "# **importing data**"
      ],
      "metadata": {
        "id": "jE2ilAqylGpG"
      }
    },
    {
      "cell_type": "code",
      "source": [
        "import tables\n",
        "tables.file._open_files.close_all()"
      ],
      "metadata": {
        "id": "dsyHnNFl5yAA"
      },
      "execution_count": 3,
      "outputs": []
    },
    {
      "cell_type": "code",
      "source": [
        "store = pd.HDFStore('/content/drive/MyDrive/1000/Tdata.h5')\n",
        "\n",
        "adj=store['adj']\n",
        "store.close()"
      ],
      "metadata": {
        "id": "VlmvHr0jkmEF"
      },
      "execution_count": 4,
      "outputs": []
    },
    {
      "cell_type": "code",
      "source": [
        "with pd.HDFStore('/content/drive/MyDrive/1000/TCFdf.h5',  mode='r') as newstore:\n",
        "    CF = newstore.select('CFdf')"
      ],
      "metadata": {
        "id": "ma7VvC0tk48v"
      },
      "execution_count": 5,
      "outputs": []
    },
    {
      "cell_type": "code",
      "source": [
        "store = pd.HDFStore('/content/drive/MyDrive/1000/TTFdf.h5')\n",
        "TF=store['TFdf']\n",
        "store.close()"
      ],
      "metadata": {
        "id": "smJcCiUJlDku"
      },
      "execution_count": 6,
      "outputs": []
    },
    {
      "cell_type": "code",
      "source": [
        "with pd.HDFStore('/content/drive/MyDrive/1000/TjaccardsimilaritydfR.h5',  mode='r') as newstore:\n",
        "    jaccardsimilarity = newstore.select('jaccardsimilaritydfR')"
      ],
      "metadata": {
        "id": "X8BEz6sylMM0"
      },
      "execution_count": 7,
      "outputs": []
    },
    {
      "cell_type": "code",
      "source": [
        "store = pd.HDFStore('/content/drive/MyDrive/1000/TcosinesimilaritydfR.h5')\n",
        "cosine=store['cosine_similaritydfR']"
      ],
      "metadata": {
        "id": "ApRJZnfglQ8K"
      },
      "execution_count": 8,
      "outputs": []
    },
    {
      "cell_type": "code",
      "source": [
        "store = pd.HDFStore('/content/drive/MyDrive/1000/TL1normdf.h5')\n",
        "L1_normdf=store['L1_normdf']\n",
        "store.close()"
      ],
      "metadata": {
        "id": "LuvmJcTllScX"
      },
      "execution_count": 9,
      "outputs": []
    },
    {
      "cell_type": "code",
      "source": [
        "store = pd.HDFStore('/content/drive/MyDrive/1000/Tsum.h5')\n",
        "wsumdf=store['wsumdf']\n",
        "store.close()"
      ],
      "metadata": {
        "id": "dsEzgv8UlZNf"
      },
      "execution_count": 10,
      "outputs": []
    },
    {
      "cell_type": "code",
      "source": [
        "with pd.HDFStore('/content/drive/MyDrive/1000/Tmul.h5',  mode='r') as newstore:\n",
        "    wmuldf = newstore.select('wmuldf')"
      ],
      "metadata": {
        "id": "bFN5AoVvlbm6"
      },
      "execution_count": 11,
      "outputs": []
    },
    {
      "cell_type": "code",
      "source": [
        "with pd.HDFStore('/content/drive/MyDrive/1000/TLdata.h5',  mode='r') as newstore:\n",
        "    adjl = newstore.select('adjl')"
      ],
      "metadata": {
        "id": "4Sgr7Idqle6m"
      },
      "execution_count": 12,
      "outputs": []
    },
    {
      "cell_type": "markdown",
      "source": [
        "# **implementation of PCA**"
      ],
      "metadata": {
        "id": "BZPLiIEfli77"
      }
    },
    {
      "cell_type": "code",
      "source": [
        "pca = PCA(n_components=10)\n",
        "CF_pca = pca.fit_transform(CF)\n",
        "CF_pca_df=pd.DataFrame(CF_pca)"
      ],
      "metadata": {
        "id": "wiaVirnalusJ"
      },
      "execution_count": 13,
      "outputs": []
    },
    {
      "cell_type": "code",
      "source": [
        "pca = PCA(n_components=10)\n",
        "TF_pca = pca.fit_transform(TF)\n",
        "TF_pca_df=pd.DataFrame(TF_pca)"
      ],
      "metadata": {
        "id": "1giP7yp5nV83"
      },
      "execution_count": 14,
      "outputs": []
    },
    {
      "cell_type": "code",
      "source": [
        "pca = PCA(n_components=10)\n",
        "jaccard_similarity_pca = pca.fit_transform(jaccardsimilarity)\n",
        "jaccard_similarity_pca_df=pd.DataFrame(jaccard_similarity_pca)"
      ],
      "metadata": {
        "id": "8TuJqyrvnaPI"
      },
      "execution_count": 25,
      "outputs": []
    },
    {
      "cell_type": "code",
      "source": [
        "pca = PCA(n_components=10)\n",
        "cosine_similarity_pca = pca.fit_transform(cosine)\n",
        "cosine_similarity_pca_df=pd.DataFrame(cosine_similarity_pca)"
      ],
      "metadata": {
        "id": "-BnL2tkXniLH"
      },
      "execution_count": 16,
      "outputs": []
    },
    {
      "cell_type": "code",
      "source": [
        "pca = PCA(n_components=10)\n",
        "L1_normdf_similarity_pca = pca.fit_transform(L1_normdf)\n",
        "L1_normdf_similarity_pca_df=pd.DataFrame(L1_normdf_similarity_pca)"
      ],
      "metadata": {
        "id": "7znJ3LgP3GUZ"
      },
      "execution_count": 17,
      "outputs": []
    },
    {
      "cell_type": "code",
      "source": [
        "pca = PCA(n_components=10)\n",
        "wsumdf_similarity_pca = pca.fit_transform(wsumdf)\n",
        "wsumdf_similarity_pca_df=pd.DataFrame(wsumdf_similarity_pca)"
      ],
      "metadata": {
        "id": "228BeRuI3MU3"
      },
      "execution_count": 18,
      "outputs": []
    },
    {
      "cell_type": "code",
      "source": [
        "pca = PCA(n_components=10)\n",
        "wmuldf_similarity_pca = pca.fit_transform(wmuldf)\n",
        "wmuldf_similarity_pca_df=pd.DataFrame(wmuldf_similarity_pca)"
      ],
      "metadata": {
        "id": "E55BageD3SaL"
      },
      "execution_count": 19,
      "outputs": []
    },
    {
      "cell_type": "code",
      "source": [
        "y=adjl.label\n",
        "y_arr=np.array(y)\n",
        "y_df=pd.DataFrame(y_arr)"
      ],
      "metadata": {
        "id": "WZXpqXwR3-H-"
      },
      "execution_count": 21,
      "outputs": []
    },
    {
      "cell_type": "code",
      "source": [
        "#concat\n",
        "frames = [CF_pca_df, TF_pca_df, jaccard_similarity_pca_df,cosine_similarity_pca_df,\n",
        "          L1_normdf_similarity_pca_df,wsumdf_similarity_pca_df,wmuldf_similarity_pca_df,y_df]\n",
        "result = pd.concat(frames,axis=1)"
      ],
      "metadata": {
        "id": "kPnbNelK44yE"
      },
      "execution_count": 26,
      "outputs": []
    },
    {
      "cell_type": "code",
      "source": [
        "result"
      ],
      "metadata": {
        "colab": {
          "base_uri": "https://localhost:8080/",
          "height": 488
        },
        "id": "23h5q1r449d3",
        "outputId": "b775ed2f-1833-4e23-f643-4a13fc15928a"
      },
      "execution_count": 27,
      "outputs": [
        {
          "output_type": "execute_result",
          "data": {
            "text/plain": [
              "            0         1         2             3             4         5  \\\n",
              "0   -1.715972 -3.099936 -0.041249  4.793804e-14  1.533198e-14  0.077295   \n",
              "1   -1.715972 -3.099936 -0.041249 -1.573467e-14  3.463010e-14  0.077295   \n",
              "2   -1.715972 -3.099936 -0.041249 -1.049169e-13 -2.150311e-13  0.077295   \n",
              "3   -1.715972 -3.099936 -0.041249 -5.202873e-14 -2.099344e-13  0.077295   \n",
              "4   -1.715972 -3.099936 -0.041249  1.104825e-14 -6.527418e-14  0.077295   \n",
              "..        ...       ...       ...           ...           ...       ...   \n",
              "995 -2.114893 -4.572474 -0.754679  5.571174e-13 -3.262912e-13  8.797502   \n",
              "996 -2.114893 -4.572474 -0.754679  5.572066e-13 -3.257378e-13  8.797502   \n",
              "997 -2.114893 -4.572474 -0.754679  5.571203e-13 -3.262280e-13  8.797502   \n",
              "998 -2.114893 -4.572474 -0.754679  5.573195e-13 -3.257510e-13  8.797502   \n",
              "999 -2.114893 -4.572474 -0.754679  5.571096e-13 -3.250981e-13  8.797502   \n",
              "\n",
              "            6         7             8             9  ...             1  \\\n",
              "0    1.691428  3.341114  1.720130e-13 -4.141169e-13  ...  7.286881e-03   \n",
              "1    1.691428  3.341114 -2.869672e-14 -1.343755e-13  ... -7.592618e-03   \n",
              "2    1.691428  3.341114  4.544143e-15 -9.468718e-14  ... -4.577336e-04   \n",
              "3    1.691428  3.341114 -5.773652e-15  3.295284e-14  ... -2.039012e-02   \n",
              "4    1.691428  3.341114 -4.720397e-15  5.116521e-14  ...  6.126758e-15   \n",
              "..        ...       ...           ...           ...  ...           ...   \n",
              "995 -0.661164 -0.063010 -2.076237e-02  5.177774e-02  ... -1.937338e-02   \n",
              "996 -0.661164 -0.063010  3.633826e-03 -1.461719e-02  ... -2.162240e-02   \n",
              "997 -0.661164 -0.063010  3.482977e-02  2.536692e-02  ...  7.172889e-05   \n",
              "998 -0.661164 -0.063010  9.614899e-03  1.143072e-02  ... -1.167698e-02   \n",
              "999 -0.661164 -0.063010 -3.399481e-02 -1.664094e-02  ...  2.494972e-02   \n",
              "\n",
              "                2             3             4             5             6  \\\n",
              "0    9.133387e-03  6.177951e-03 -1.766329e-02 -1.546903e-03 -2.129364e-03   \n",
              "1    1.203724e-02  1.119539e-03  4.892798e-03 -1.444263e-02 -2.126158e-02   \n",
              "2    1.930910e-02 -4.886899e-05 -3.417111e-03  2.228885e-02  3.994949e-03   \n",
              "3    1.150549e-02 -1.058895e-02 -5.315466e-03 -7.836788e-03 -2.482258e-03   \n",
              "4    2.462819e-15  8.188884e-15  7.798825e-15  3.682839e-15  8.178555e-15   \n",
              "..            ...           ...           ...           ...           ...   \n",
              "995  2.294438e-02  6.965943e-03  6.905981e-03  2.042971e-02  8.835102e-04   \n",
              "996  1.731516e-02 -1.492769e-02  2.406943e-02 -3.219238e-03  1.239865e-02   \n",
              "997 -1.345066e-02  1.013830e-02  2.224863e-04  9.640867e-03  1.964005e-02   \n",
              "998  3.470006e-02 -2.897900e-03 -7.920176e-03 -1.667178e-02  1.509620e-02   \n",
              "999  1.244563e-02  1.893840e-02  2.518437e-02  1.199337e-02 -1.406613e-02   \n",
              "\n",
              "                7             8             9  0  \n",
              "0   -2.060071e-02 -1.211687e-02  6.798811e-03  1  \n",
              "1   -3.820006e-02 -4.360685e-03  1.891001e-02  1  \n",
              "2   -6.179284e-03 -4.344655e-03  1.311346e-02  1  \n",
              "3    1.817531e-03 -1.231243e-03 -3.614036e-03  1  \n",
              "4   -1.445560e-14 -1.809574e-13  1.565862e-15  1  \n",
              "..            ...           ...           ... ..  \n",
              "995 -2.721377e-02  6.363850e-03  1.567893e-02  1  \n",
              "996  4.898372e-02 -5.092807e-03 -1.611609e-02  1  \n",
              "997  1.425644e-02 -3.650507e-03  1.049643e-02  1  \n",
              "998  1.630737e-02 -2.939188e-03 -2.392343e-02  1  \n",
              "999  1.844262e-02  1.463074e-02 -8.238555e-03  1  \n",
              "\n",
              "[1000 rows x 71 columns]"
            ],
            "text/html": [
              "\n",
              "  <div id=\"df-8146661f-33d0-448b-8f8c-7bbd58d21bb4\">\n",
              "    <div class=\"colab-df-container\">\n",
              "      <div>\n",
              "<style scoped>\n",
              "    .dataframe tbody tr th:only-of-type {\n",
              "        vertical-align: middle;\n",
              "    }\n",
              "\n",
              "    .dataframe tbody tr th {\n",
              "        vertical-align: top;\n",
              "    }\n",
              "\n",
              "    .dataframe thead th {\n",
              "        text-align: right;\n",
              "    }\n",
              "</style>\n",
              "<table border=\"1\" class=\"dataframe\">\n",
              "  <thead>\n",
              "    <tr style=\"text-align: right;\">\n",
              "      <th></th>\n",
              "      <th>0</th>\n",
              "      <th>1</th>\n",
              "      <th>2</th>\n",
              "      <th>3</th>\n",
              "      <th>4</th>\n",
              "      <th>5</th>\n",
              "      <th>6</th>\n",
              "      <th>7</th>\n",
              "      <th>8</th>\n",
              "      <th>9</th>\n",
              "      <th>...</th>\n",
              "      <th>1</th>\n",
              "      <th>2</th>\n",
              "      <th>3</th>\n",
              "      <th>4</th>\n",
              "      <th>5</th>\n",
              "      <th>6</th>\n",
              "      <th>7</th>\n",
              "      <th>8</th>\n",
              "      <th>9</th>\n",
              "      <th>0</th>\n",
              "    </tr>\n",
              "  </thead>\n",
              "  <tbody>\n",
              "    <tr>\n",
              "      <th>0</th>\n",
              "      <td>-1.715972</td>\n",
              "      <td>-3.099936</td>\n",
              "      <td>-0.041249</td>\n",
              "      <td>4.793804e-14</td>\n",
              "      <td>1.533198e-14</td>\n",
              "      <td>0.077295</td>\n",
              "      <td>1.691428</td>\n",
              "      <td>3.341114</td>\n",
              "      <td>1.720130e-13</td>\n",
              "      <td>-4.141169e-13</td>\n",
              "      <td>...</td>\n",
              "      <td>7.286881e-03</td>\n",
              "      <td>9.133387e-03</td>\n",
              "      <td>6.177951e-03</td>\n",
              "      <td>-1.766329e-02</td>\n",
              "      <td>-1.546903e-03</td>\n",
              "      <td>-2.129364e-03</td>\n",
              "      <td>-2.060071e-02</td>\n",
              "      <td>-1.211687e-02</td>\n",
              "      <td>6.798811e-03</td>\n",
              "      <td>1</td>\n",
              "    </tr>\n",
              "    <tr>\n",
              "      <th>1</th>\n",
              "      <td>-1.715972</td>\n",
              "      <td>-3.099936</td>\n",
              "      <td>-0.041249</td>\n",
              "      <td>-1.573467e-14</td>\n",
              "      <td>3.463010e-14</td>\n",
              "      <td>0.077295</td>\n",
              "      <td>1.691428</td>\n",
              "      <td>3.341114</td>\n",
              "      <td>-2.869672e-14</td>\n",
              "      <td>-1.343755e-13</td>\n",
              "      <td>...</td>\n",
              "      <td>-7.592618e-03</td>\n",
              "      <td>1.203724e-02</td>\n",
              "      <td>1.119539e-03</td>\n",
              "      <td>4.892798e-03</td>\n",
              "      <td>-1.444263e-02</td>\n",
              "      <td>-2.126158e-02</td>\n",
              "      <td>-3.820006e-02</td>\n",
              "      <td>-4.360685e-03</td>\n",
              "      <td>1.891001e-02</td>\n",
              "      <td>1</td>\n",
              "    </tr>\n",
              "    <tr>\n",
              "      <th>2</th>\n",
              "      <td>-1.715972</td>\n",
              "      <td>-3.099936</td>\n",
              "      <td>-0.041249</td>\n",
              "      <td>-1.049169e-13</td>\n",
              "      <td>-2.150311e-13</td>\n",
              "      <td>0.077295</td>\n",
              "      <td>1.691428</td>\n",
              "      <td>3.341114</td>\n",
              "      <td>4.544143e-15</td>\n",
              "      <td>-9.468718e-14</td>\n",
              "      <td>...</td>\n",
              "      <td>-4.577336e-04</td>\n",
              "      <td>1.930910e-02</td>\n",
              "      <td>-4.886899e-05</td>\n",
              "      <td>-3.417111e-03</td>\n",
              "      <td>2.228885e-02</td>\n",
              "      <td>3.994949e-03</td>\n",
              "      <td>-6.179284e-03</td>\n",
              "      <td>-4.344655e-03</td>\n",
              "      <td>1.311346e-02</td>\n",
              "      <td>1</td>\n",
              "    </tr>\n",
              "    <tr>\n",
              "      <th>3</th>\n",
              "      <td>-1.715972</td>\n",
              "      <td>-3.099936</td>\n",
              "      <td>-0.041249</td>\n",
              "      <td>-5.202873e-14</td>\n",
              "      <td>-2.099344e-13</td>\n",
              "      <td>0.077295</td>\n",
              "      <td>1.691428</td>\n",
              "      <td>3.341114</td>\n",
              "      <td>-5.773652e-15</td>\n",
              "      <td>3.295284e-14</td>\n",
              "      <td>...</td>\n",
              "      <td>-2.039012e-02</td>\n",
              "      <td>1.150549e-02</td>\n",
              "      <td>-1.058895e-02</td>\n",
              "      <td>-5.315466e-03</td>\n",
              "      <td>-7.836788e-03</td>\n",
              "      <td>-2.482258e-03</td>\n",
              "      <td>1.817531e-03</td>\n",
              "      <td>-1.231243e-03</td>\n",
              "      <td>-3.614036e-03</td>\n",
              "      <td>1</td>\n",
              "    </tr>\n",
              "    <tr>\n",
              "      <th>4</th>\n",
              "      <td>-1.715972</td>\n",
              "      <td>-3.099936</td>\n",
              "      <td>-0.041249</td>\n",
              "      <td>1.104825e-14</td>\n",
              "      <td>-6.527418e-14</td>\n",
              "      <td>0.077295</td>\n",
              "      <td>1.691428</td>\n",
              "      <td>3.341114</td>\n",
              "      <td>-4.720397e-15</td>\n",
              "      <td>5.116521e-14</td>\n",
              "      <td>...</td>\n",
              "      <td>6.126758e-15</td>\n",
              "      <td>2.462819e-15</td>\n",
              "      <td>8.188884e-15</td>\n",
              "      <td>7.798825e-15</td>\n",
              "      <td>3.682839e-15</td>\n",
              "      <td>8.178555e-15</td>\n",
              "      <td>-1.445560e-14</td>\n",
              "      <td>-1.809574e-13</td>\n",
              "      <td>1.565862e-15</td>\n",
              "      <td>1</td>\n",
              "    </tr>\n",
              "    <tr>\n",
              "      <th>...</th>\n",
              "      <td>...</td>\n",
              "      <td>...</td>\n",
              "      <td>...</td>\n",
              "      <td>...</td>\n",
              "      <td>...</td>\n",
              "      <td>...</td>\n",
              "      <td>...</td>\n",
              "      <td>...</td>\n",
              "      <td>...</td>\n",
              "      <td>...</td>\n",
              "      <td>...</td>\n",
              "      <td>...</td>\n",
              "      <td>...</td>\n",
              "      <td>...</td>\n",
              "      <td>...</td>\n",
              "      <td>...</td>\n",
              "      <td>...</td>\n",
              "      <td>...</td>\n",
              "      <td>...</td>\n",
              "      <td>...</td>\n",
              "      <td>...</td>\n",
              "    </tr>\n",
              "    <tr>\n",
              "      <th>995</th>\n",
              "      <td>-2.114893</td>\n",
              "      <td>-4.572474</td>\n",
              "      <td>-0.754679</td>\n",
              "      <td>5.571174e-13</td>\n",
              "      <td>-3.262912e-13</td>\n",
              "      <td>8.797502</td>\n",
              "      <td>-0.661164</td>\n",
              "      <td>-0.063010</td>\n",
              "      <td>-2.076237e-02</td>\n",
              "      <td>5.177774e-02</td>\n",
              "      <td>...</td>\n",
              "      <td>-1.937338e-02</td>\n",
              "      <td>2.294438e-02</td>\n",
              "      <td>6.965943e-03</td>\n",
              "      <td>6.905981e-03</td>\n",
              "      <td>2.042971e-02</td>\n",
              "      <td>8.835102e-04</td>\n",
              "      <td>-2.721377e-02</td>\n",
              "      <td>6.363850e-03</td>\n",
              "      <td>1.567893e-02</td>\n",
              "      <td>1</td>\n",
              "    </tr>\n",
              "    <tr>\n",
              "      <th>996</th>\n",
              "      <td>-2.114893</td>\n",
              "      <td>-4.572474</td>\n",
              "      <td>-0.754679</td>\n",
              "      <td>5.572066e-13</td>\n",
              "      <td>-3.257378e-13</td>\n",
              "      <td>8.797502</td>\n",
              "      <td>-0.661164</td>\n",
              "      <td>-0.063010</td>\n",
              "      <td>3.633826e-03</td>\n",
              "      <td>-1.461719e-02</td>\n",
              "      <td>...</td>\n",
              "      <td>-2.162240e-02</td>\n",
              "      <td>1.731516e-02</td>\n",
              "      <td>-1.492769e-02</td>\n",
              "      <td>2.406943e-02</td>\n",
              "      <td>-3.219238e-03</td>\n",
              "      <td>1.239865e-02</td>\n",
              "      <td>4.898372e-02</td>\n",
              "      <td>-5.092807e-03</td>\n",
              "      <td>-1.611609e-02</td>\n",
              "      <td>1</td>\n",
              "    </tr>\n",
              "    <tr>\n",
              "      <th>997</th>\n",
              "      <td>-2.114893</td>\n",
              "      <td>-4.572474</td>\n",
              "      <td>-0.754679</td>\n",
              "      <td>5.571203e-13</td>\n",
              "      <td>-3.262280e-13</td>\n",
              "      <td>8.797502</td>\n",
              "      <td>-0.661164</td>\n",
              "      <td>-0.063010</td>\n",
              "      <td>3.482977e-02</td>\n",
              "      <td>2.536692e-02</td>\n",
              "      <td>...</td>\n",
              "      <td>7.172889e-05</td>\n",
              "      <td>-1.345066e-02</td>\n",
              "      <td>1.013830e-02</td>\n",
              "      <td>2.224863e-04</td>\n",
              "      <td>9.640867e-03</td>\n",
              "      <td>1.964005e-02</td>\n",
              "      <td>1.425644e-02</td>\n",
              "      <td>-3.650507e-03</td>\n",
              "      <td>1.049643e-02</td>\n",
              "      <td>1</td>\n",
              "    </tr>\n",
              "    <tr>\n",
              "      <th>998</th>\n",
              "      <td>-2.114893</td>\n",
              "      <td>-4.572474</td>\n",
              "      <td>-0.754679</td>\n",
              "      <td>5.573195e-13</td>\n",
              "      <td>-3.257510e-13</td>\n",
              "      <td>8.797502</td>\n",
              "      <td>-0.661164</td>\n",
              "      <td>-0.063010</td>\n",
              "      <td>9.614899e-03</td>\n",
              "      <td>1.143072e-02</td>\n",
              "      <td>...</td>\n",
              "      <td>-1.167698e-02</td>\n",
              "      <td>3.470006e-02</td>\n",
              "      <td>-2.897900e-03</td>\n",
              "      <td>-7.920176e-03</td>\n",
              "      <td>-1.667178e-02</td>\n",
              "      <td>1.509620e-02</td>\n",
              "      <td>1.630737e-02</td>\n",
              "      <td>-2.939188e-03</td>\n",
              "      <td>-2.392343e-02</td>\n",
              "      <td>1</td>\n",
              "    </tr>\n",
              "    <tr>\n",
              "      <th>999</th>\n",
              "      <td>-2.114893</td>\n",
              "      <td>-4.572474</td>\n",
              "      <td>-0.754679</td>\n",
              "      <td>5.571096e-13</td>\n",
              "      <td>-3.250981e-13</td>\n",
              "      <td>8.797502</td>\n",
              "      <td>-0.661164</td>\n",
              "      <td>-0.063010</td>\n",
              "      <td>-3.399481e-02</td>\n",
              "      <td>-1.664094e-02</td>\n",
              "      <td>...</td>\n",
              "      <td>2.494972e-02</td>\n",
              "      <td>1.244563e-02</td>\n",
              "      <td>1.893840e-02</td>\n",
              "      <td>2.518437e-02</td>\n",
              "      <td>1.199337e-02</td>\n",
              "      <td>-1.406613e-02</td>\n",
              "      <td>1.844262e-02</td>\n",
              "      <td>1.463074e-02</td>\n",
              "      <td>-8.238555e-03</td>\n",
              "      <td>1</td>\n",
              "    </tr>\n",
              "  </tbody>\n",
              "</table>\n",
              "<p>1000 rows × 71 columns</p>\n",
              "</div>\n",
              "      <button class=\"colab-df-convert\" onclick=\"convertToInteractive('df-8146661f-33d0-448b-8f8c-7bbd58d21bb4')\"\n",
              "              title=\"Convert this dataframe to an interactive table.\"\n",
              "              style=\"display:none;\">\n",
              "        \n",
              "  <svg xmlns=\"http://www.w3.org/2000/svg\" height=\"24px\"viewBox=\"0 0 24 24\"\n",
              "       width=\"24px\">\n",
              "    <path d=\"M0 0h24v24H0V0z\" fill=\"none\"/>\n",
              "    <path d=\"M18.56 5.44l.94 2.06.94-2.06 2.06-.94-2.06-.94-.94-2.06-.94 2.06-2.06.94zm-11 1L8.5 8.5l.94-2.06 2.06-.94-2.06-.94L8.5 2.5l-.94 2.06-2.06.94zm10 10l.94 2.06.94-2.06 2.06-.94-2.06-.94-.94-2.06-.94 2.06-2.06.94z\"/><path d=\"M17.41 7.96l-1.37-1.37c-.4-.4-.92-.59-1.43-.59-.52 0-1.04.2-1.43.59L10.3 9.45l-7.72 7.72c-.78.78-.78 2.05 0 2.83L4 21.41c.39.39.9.59 1.41.59.51 0 1.02-.2 1.41-.59l7.78-7.78 2.81-2.81c.8-.78.8-2.07 0-2.86zM5.41 20L4 18.59l7.72-7.72 1.47 1.35L5.41 20z\"/>\n",
              "  </svg>\n",
              "      </button>\n",
              "      \n",
              "  <style>\n",
              "    .colab-df-container {\n",
              "      display:flex;\n",
              "      flex-wrap:wrap;\n",
              "      gap: 12px;\n",
              "    }\n",
              "\n",
              "    .colab-df-convert {\n",
              "      background-color: #E8F0FE;\n",
              "      border: none;\n",
              "      border-radius: 50%;\n",
              "      cursor: pointer;\n",
              "      display: none;\n",
              "      fill: #1967D2;\n",
              "      height: 32px;\n",
              "      padding: 0 0 0 0;\n",
              "      width: 32px;\n",
              "    }\n",
              "\n",
              "    .colab-df-convert:hover {\n",
              "      background-color: #E2EBFA;\n",
              "      box-shadow: 0px 1px 2px rgba(60, 64, 67, 0.3), 0px 1px 3px 1px rgba(60, 64, 67, 0.15);\n",
              "      fill: #174EA6;\n",
              "    }\n",
              "\n",
              "    [theme=dark] .colab-df-convert {\n",
              "      background-color: #3B4455;\n",
              "      fill: #D2E3FC;\n",
              "    }\n",
              "\n",
              "    [theme=dark] .colab-df-convert:hover {\n",
              "      background-color: #434B5C;\n",
              "      box-shadow: 0px 1px 3px 1px rgba(0, 0, 0, 0.15);\n",
              "      filter: drop-shadow(0px 1px 2px rgba(0, 0, 0, 0.3));\n",
              "      fill: #FFFFFF;\n",
              "    }\n",
              "  </style>\n",
              "\n",
              "      <script>\n",
              "        const buttonEl =\n",
              "          document.querySelector('#df-8146661f-33d0-448b-8f8c-7bbd58d21bb4 button.colab-df-convert');\n",
              "        buttonEl.style.display =\n",
              "          google.colab.kernel.accessAllowed ? 'block' : 'none';\n",
              "\n",
              "        async function convertToInteractive(key) {\n",
              "          const element = document.querySelector('#df-8146661f-33d0-448b-8f8c-7bbd58d21bb4');\n",
              "          const dataTable =\n",
              "            await google.colab.kernel.invokeFunction('convertToInteractive',\n",
              "                                                     [key], {});\n",
              "          if (!dataTable) return;\n",
              "\n",
              "          const docLinkHtml = 'Like what you see? Visit the ' +\n",
              "            '<a target=\"_blank\" href=https://colab.research.google.com/notebooks/data_table.ipynb>data table notebook</a>'\n",
              "            + ' to learn more about interactive tables.';\n",
              "          element.innerHTML = '';\n",
              "          dataTable['output_type'] = 'display_data';\n",
              "          await google.colab.output.renderOutput(dataTable, element);\n",
              "          const docLink = document.createElement('div');\n",
              "          docLink.innerHTML = docLinkHtml;\n",
              "          element.appendChild(docLink);\n",
              "        }\n",
              "      </script>\n",
              "    </div>\n",
              "  </div>\n",
              "  "
            ]
          },
          "metadata": {},
          "execution_count": 27
        }
      ]
    },
    {
      "cell_type": "code",
      "source": [
        "last_column = result.iloc[: , -1]"
      ],
      "metadata": {
        "id": "4UbFNr_-HAOE"
      },
      "execution_count": 39,
      "outputs": []
    },
    {
      "cell_type": "code",
      "source": [
        "with pd.HDFStore('/content/drive/MyDrive/last/last_result_1000',  mode='w') as store:\n",
        "    store.append('result', result,format='table')"
      ],
      "metadata": {
        "id": "gyX52e42M6c_"
      },
      "execution_count": 40,
      "outputs": []
    }
  ]
}
